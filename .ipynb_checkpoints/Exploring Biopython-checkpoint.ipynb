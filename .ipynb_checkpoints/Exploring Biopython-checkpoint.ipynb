{
 "cells": [
  {
   "cell_type": "code",
   "execution_count": 1,
   "id": "879100f9",
   "metadata": {},
   "outputs": [
    {
     "name": "stdout",
     "output_type": "stream",
     "text": [
      "COX1_human\n",
      "MFADRWLFSTNHKDIGtLyLLFGAWAGVLGtALsLLIRAELGQPGNLLGNDHIYNVIVTAHAFVMIFFMVMPIMIGGFGNWLVPLMIGAPDMAFPRMNNMSFWLLPPSLLLLLASAMVEAGAGTGWTVYPPLAGNYSHPGASVDLTIFSLHLAGVSSILGAINFITTIINMKPPAMTQYQTPLFVWSVLITAVLLLLSLPVLAAGITMLLTDRNLNTTFFDPAGGGDPILYQHLFWFFGHPEVYILILPGFGMISHIVTYYSGKKEPFGYMGMVWAMMSIGFLGFIVWAHHMFTVGMDVDTRAYFTSATMIIAIPtGVKVFSWLATLHGsNMKWSAAVLWALGFIFLFTVGGLTGIVLANSSLDIVLHDTYYVVAHFHYVLSMGAVFAIMGGFIHWFPLFSGYTLDQTYAKIHFTIMFIGVNLTFFPQHFLGLSGMPRRYSDYPDAYTTWNILSSVGSFISLTAVMLMIFMIWEAFASKRKVLMVEEPSMNLEWLYGCPPPYHTFEEPVYMKS-\n",
      "COX1_mouse\n",
      "MFINRWLFSTNHKDIGTLYLLFGAWAGMVGTALSILIRAELGQPGALLGDDQIYNVIVTAHAFVMIFFMVMPMMIGGFGNWLVPLMIGAPDMAFPRMNNMSFWLLPPSFLLLLASSMVEAGAGTGWTVYPPLAGNLAHAGASVDLTIFSLHLAGVSSILGAINFITTIINMKPPAMTQYQTPLFVWSVLITAVLLLLSLPVLAAGITMLLTDRNLNTTFFDPAGGGDPILYQHLFWFFGHPEVYILILPGFGIISHVVTYYSGKKEPFGYMGMVWAMMSIGFLGFIVWAHHMFTVGLDVDTRAYFTSATMIIAIPTGVKVFSWLATLHGGNIKWSPAMLWALGFIFLFTVGGLTGIVLSNSSLDIVLHDTYYVVAHFHYVLSMGAVFAIMAGFVHWFPLFSGFTLDDTWAKAHFAIMFVGVNMTFFPQHFLGLSGMPRRYSDYPDAYTTWNTVSSMGSFISLTAVLIMIFMIWEAFASKREVMSVSYASTNLEWLHGCPPPYHTFEEPTYVKVK\n",
      "COX1_rabbit\n",
      "MFVNRWLFSTNHKDIGTLYLLFGAWAGMVGTALSLLIRAELGQPGTLLGDDQIYNVIVTAHAFVMIFFMVMPIMIGGFGNWLVPLMIGAPDMAFPRMNNMSFWLLPPSFLLLLASSMVEAGAGTGWTVYPPLAGNLAHAGASVDLTIFSLHLAGVssILGAINFITTIINMKAPAMSQYQTPLFVWSVLITAVLLLLSLPVLAAGITMLLTDRNLNTTFFDPAGGGDPILYQHLFWFFGHPEVYILILPGFGMISHIVTYYSGKKEPFGYMGMVWAMMSIGFLGFIVWAHHMFTVGMDVDTRAYFTSATMIIAIPTGVKVFSWLATLHGGNIKWSPAMLWALGFIFLFTVGGLTGIVLANSSLDIVLHDTYYVVAHFHYVLSMGAVFAIMGGFAHWFPLFSGYTLDPTWAKIHFTVMFVGVNLTFFPQHFLGLSGMPRRYSDYPDAYTMWNTVSSMGSFISLTAVMVMIFMIWEAFASKREVETIELTTTNLEWLHGCPPPYHTFEEPAFVKA-\n",
      "COX1_cow\n",
      "MFINRWLFSTNHKDIGTLYLLFGAWAGMVGTALSLLIRAELGQPGTLLGDDQIYNVVVTAHAFVMIFFMVMPIMIGGFGNWLVPLMIGAPDMAFPRMNNMSFWLLPPSFLLLLASSMVEAGAGTGWTVYPPLAGNLAHAGASVDLTIFSLHLAGVSSILGAINFITTIINMKPPAMSQYQTPLFVWSVMITAVLLLLSLPVLAAGITMLLTDRNLNTTFFDPAGGGDPILYQHLFWFFGHPEVYILILPGFGMISHIVTYYSGKKEPFGYMGMVWAMMSIGFLGFIVWAHHMFTVGMDVDTRAyFTSATMIIAIPTGVKVFSWLATLHGGNIKWSPAMMWALGFIFLFTVGGLTGIVLANSSLDIVLHDTYYVVAHFHYVLSMGAVFAIMGGFVHWFPLFSGYTLNDTWAKIHFAIMFVGVNMTFFPQHFLGLSGMPRRYsDYPDAYTMWNTISSMGSFISLTAVMLMVFIIWEAFASKREVLTVDLTTTNLEWLNGCPPPYHTFEEPTYVNLK\n"
     ]
    }
   ],
   "source": [
    "# First time exploring Biopython. Will explore some of its features using both COX1 amino acid sequences \n",
    "# and Chlamydia trachomatis DNA sequences\n",
    "# Starting by just printing the IDs and sequences separately and saving them into lists\n",
    "from Bio import SeqIO\n",
    "\n",
    "cox_id_list = []\n",
    "cox_seq_list = []\n",
    "\n",
    "aa_sequences = SeqIO.parse(open('cox1.fasta'),'fasta')\n",
    "for fasta in aa_sequences:\n",
    "    print(fasta.id)\n",
    "    print(fasta.seq)\n",
    "    \n",
    "    cox_id_list.append(fasta.id)\n",
    "    cox_seq_list.append(fasta.seq)"
   ]
  },
  {
   "cell_type": "code",
   "execution_count": 2,
   "id": "55fdda11",
   "metadata": {},
   "outputs": [
    {
     "name": "stdout",
     "output_type": "stream",
     "text": [
      "['COX1_human', 'COX1_mouse', 'COX1_rabbit', 'COX1_cow']\n",
      "[Seq('MFADRWLFSTNHKDIGtLyLLFGAWAGVLGtALsLLIRAELGQPGNLLGNDHIY...KS-'), Seq('MFINRWLFSTNHKDIGTLYLLFGAWAGMVGTALSILIRAELGQPGALLGDDQIY...KVK'), Seq('MFVNRWLFSTNHKDIGTLYLLFGAWAGMVGTALSLLIRAELGQPGTLLGDDQIY...KA-'), Seq('MFINRWLFSTNHKDIGTLYLLFGAWAGMVGTALSLLIRAELGQPGTLLGDDQIY...NLK')]\n"
     ]
    }
   ],
   "source": [
    "print(cox_id_list)\n",
    "print(cox_seq_list)"
   ]
  },
  {
   "cell_type": "code",
   "execution_count": 3,
   "id": "cc6344a3",
   "metadata": {},
   "outputs": [
    {
     "name": "stdout",
     "output_type": "stream",
     "text": [
      "ID: COX1_human\n",
      "Name: COX1_human\n",
      "Description: COX1_human\n",
      "Number of features: 0\n",
      "Seq('MFADRWLFSTNHKDIGtLyLLFGAWAGVLGtALsLLIRAELGQPGNLLGNDHIY...KS-')\n"
     ]
    }
   ],
   "source": [
    "# They can also be saved into a dictionary\n",
    "record_dict = SeqIO.to_dict(SeqIO.parse(\"cox1.fasta\", \"fasta\"))\n",
    "print(record_dict[\"COX1_human\"])"
   ]
  },
  {
   "cell_type": "code",
   "execution_count": 4,
   "id": "fe2ea034",
   "metadata": {},
   "outputs": [
    {
     "name": "stdout",
     "output_type": "stream",
     "text": [
      "O169_04115-1\n",
      "TTTTCTGAGAATTTGATCTTGGTTCAGATTGAACGCTGGCGGCGTGGATGAGGCATGCAAGTCGAACGGAGCAATTGTTTCGGCAATTGTTTAGTGGCGGAAGGGTTAGTAATGCATAGATAATTTGTCCTTAACTTGGGAATAACGGTTGGAAACGGCCGCTAATACCGAATGTGGCGATATTTGGGCATCCGAGTAACGTTAAAGAAGGGGATCTTAGGACCTTTCGGTTAAGGGAGAGTCTATGTGATATCAGCTAGTTGGTGGGGTAAAGGCCTACCAAGGCTATGACGTCTAGGCGGATTGAGAGATTGGCCGCCAACACTGGGACTGAGACACTGCCCAGACTCCTACGGGAGGCTGCAGTCGAGAATCTTTCGCAATGGACGGAAGTCTGACGAAGCGACGCCGCGTGTGTGATGAAGGCTCTAGGGTTGTAAAGCACTTTCGCTTGGGAATAAGAGAAGACGGTTAATACCCGCTGGATTTGAGCGTACCAGGTAAAGAAGCACCGGCTAACTCCGTGCCAGCAGCTGCGGTAATACGGAGGGTGCTAGCGTTAATCGGATTTATTGGGCGTAAAGGGCGTGTAGGCGGAAAGGTAAGTTAGTTGTCAAAGATCGGGGCTCAACCCCGAGTCGGCATCTAATACTATTTTTCTAGAGGATAGATGGAGAAAAGGGAATTTCACGTGTAGCGGTGAAATGCGTAGATATGTGGAAGAACACCAGTGGCGAAGGCGCTTTTCTAATTTATACCTGACGCTAAGGCGCGAAAGCAAGGGGAGCAAACAGGATTAGATACCCTGGTAGTCCTTGCCGTAAACGATGCATACTTGATGTGGATGGTCTCAACCCCATCCGTGTCGGAGCTAACGCGTTAAGTATGCCGCCTGAGGAGTACACTCGCAAGGGTGAAACTCAAAAGAATTGACGGGGGCCCGCACAAGCAGTGGAGCATGTGGTTTAATTCGATGCAACGCGAAGGACCTTACCTGGGTTTGACATGTATATGACCGCGGCAGAAATGTCGTTTTCCGCAAGGACATATACACAGGTGCTGCATGGCTGTCGTCAGCTCGTGCCGTGAGGTGTTGGGTTAAGTCCCGCAACGAGCGCAACCCTTATCGTTAGTTGCCAGCACTTAGGGTGGGAACTCTAACGAGACTGCCTGGGTTAACCAGGAGGAAGGCGAGGATGACGTCAAGTCAGCATGGCCCTTATGCCCAGGGCGACACACGTGCTACAATGGCCAGTACAGAAGGTAGCAAGATCGTGAGATGGAGCAAATCCTCAAAGCTGGCCCCAGTTCGGATTGTAGTCTGCAACTCGACTACATGAAGTCGGAATTGCTAGTAATGGCGTGTCAGCCATAACGCCGTGAATACGTTCCCGGGCCTTGTACACACCGCCCGTCACATCATGGGAGTTGGTTTTACCTTAAGTCGTTGACTCAACCCGCAAGGGAGAGAGGCGCCCAAGGTGAGGCTGATGACTAGGATGAAGTCGTAACAAGGTAGCCCTACCGGAAGGTGGGGCTGGATCACCTCCTTTTAA\n"
     ]
    }
   ],
   "source": [
    "# Using a list to look at individuals IDs and sequences of a Chlymadia DNA sequence\n",
    "# Will split it into codons\n",
    "records = list(SeqIO.parse(\"Chlamydia_trachomatis_sequences.fa\", \"fasta\"))\n",
    "print(records[0].id)\n",
    "print(records[0].seq)"
   ]
  },
  {
   "cell_type": "code",
   "execution_count": 5,
   "id": "6de227f6",
   "metadata": {},
   "outputs": [],
   "source": [
    "# Transcribe it into RNA\n",
    "from Bio.Seq import Seq \n",
    "from Bio.Seq import transcribe \n",
    "\n",
    "# Transcribing to RNA and saving into dictionary to make access easier\n",
    "\n",
    "ct_id_list = []\n",
    "ct_seq_list = []\n",
    "\n",
    "dna_sequences = SeqIO.parse(open('Chlamydia_trachomatis_sequences.fa'),'fasta')\n",
    "for fasta_ct in dna_sequences:\n",
    "    ct_id_list.append(fasta_ct.id)\n",
    "    ct_seq_list.append(transcribe(fasta_ct.seq))\n",
    "\n",
    "seq_dict = dict(zip(ct_id_list, ct_seq_list))\n"
   ]
  },
  {
   "cell_type": "code",
   "execution_count": 6,
   "id": "7ae5ae4b",
   "metadata": {},
   "outputs": [
    {
     "name": "stdout",
     "output_type": "stream",
     "text": [
      "UUUUCUGAGAAUUUGAUCUUGGUUCAGAUUGAACGCUGGCGGCGUGGAUGAGGCAUGCAAGUCGAACGGAGCAAUUGUUUCGGCAAUUGUUUAGUGGCGGAAGGGUUAGUAAUGCAUAGAUAAUUUGUCCUUAACUUGGGAAUAACGGUUGGAAACGGCCGCUAAUACCGAAUGUGGCGAUAUUUGGGCAUCCGAGUAACGUUAAAGAAGGGGAUCUUAGGACCUUUCGGUUAAGGGAGAGUCUAUGUGAUAUCAGCUAGUUGGUGGGGUAAAGGCCUACCAAGGCUAUGACGUCUAGGCGGAUUGAGAGAUUGGCCGCCAACACUGGGACUGAGACACUGCCCAGACUCCUACGGGAGGCUGCAGUCGAGAAUCUUUCGCAAUGGACGGAAGUCUGACGAAGCGACGCCGCGUGUGUGAUGAAGGCUCUAGGGUUGUAAAGCACUUUCGCUUGGGAAUAAGAGAAGACGGUUAAUACCCGCUGGAUUUGAGCGUACCAGGUAAAGAAGCACCGGCUAACUCCGUGCCAGCAGCUGCGGUAAUACGGAGGGUGCUAGCGUUAAUCGGAUUUAUUGGGCGUAAAGGGCGUGUAGGCGGAAAGGUAAGUUAGUUGUCAAAGAUCGGGGCUCAACCCCGAGUCGGCAUCUAAUACUAUUUUUCUAGAGGAUAGAUGGAGAAAAGGGAAUUUCACGUGUAGCGGUGAAAUGCGUAGAUAUGUGGAAGAACACCAGUGGCGAAGGCGCUUUUCUAAUUUAUACCUGACGCUAAGGCGCGAAAGCAAGGGGAGCAAACAGGAUUAGAUACCCUGGUAGUCCUUGCCGUAAACGAUGCAUACUUGAUGUGGAUGGUCUCAACCCCAUCCGUGUCGGAGCUAACGCGUUAAGUAUGCCGCCUGAGGAGUACACUCGCAAGGGUGAAACUCAAAAGAAUUGACGGGGGCCCGCACAAGCAGUGGAGCAUGUGGUUUAAUUCGAUGCAACGCGAAGGACCUUACCUGGGUUUGACAUGUAUAUGACCGCGGCAGAAAUGUCGUUUUCCGCAAGGACAUAUACACAGGUGCUGCAUGGCUGUCGUCAGCUCGUGCCGUGAGGUGUUGGGUUAAGUCCCGCAACGAGCGCAACCCUUAUCGUUAGUUGCCAGCACUUAGGGUGGGAACUCUAACGAGACUGCCUGGGUUAACCAGGAGGAAGGCGAGGAUGACGUCAAGUCAGCAUGGCCCUUAUGCCCAGGGCGACACACGUGCUACAAUGGCCAGUACAGAAGGUAGCAAGAUCGUGAGAUGGAGCAAAUCCUCAAAGCUGGCCCCAGUUCGGAUUGUAGUCUGCAACUCGACUACAUGAAGUCGGAAUUGCUAGUAAUGGCGUGUCAGCCAUAACGCCGUGAAUACGUUCCCGGGCCUUGUACACACCGCCCGUCACAUCAUGGGAGUUGGUUUUACCUUAAGUCGUUGACUCAACCCGCAAGGGAGAGAGGCGCCCAAGGUGAGGCUGAUGACUAGGAUGAAGUCGUAACAAGGUAGCCCUACCGGAAGGUGGGGCUGGAUCACCUCCUUUUAA\n"
     ]
    }
   ],
   "source": [
    "print(seq_dict[\"O169_04115-1\"])  "
   ]
  },
  {
   "cell_type": "code",
   "execution_count": 7,
   "id": "ed3ee41a",
   "metadata": {},
   "outputs": [
    {
     "name": "stdout",
     "output_type": "stream",
     "text": [
      "FSENLILVQIERWRRG*GMQVERSNCFGNCLVAEGLVMHR*FVLNLGITVGNGR*YRMWRYLGIRVTLKKGILGPFG*GRVYVISASWWGKGLPRL*RLGGLRDWPPTLGLRHCPDSYGRLQSRIFRNGRKSDEATPRV**RL*GCKALSLGNKRRRLIPAGFERTR*RSTG*LRASSCGNTEGASVNRIYWA*RACRRKGKLVVKDRGSTPSRHLILFF*RIDGEKGISRVAVKCVDMWKNTSGEGAFLIYT*R*GAKARGANRIRYPGSPCRKRCILDVDGLNPIRVGANALSMPPEEYTRKGETQKN*RGPAQAVEHVV*FDATRRTLPGFDMYMTAAEMSFSARTYTQVLHGCRQLVP*GVGLSPATSATLIVSCQHLGWEL*RDCLG*PGGRRG*RQVSMALMPRATHVLQWPVQKVARS*DGANPQSWPQFGL*SATRLHEVGIASNGVSAITP*IRSRALYTPPVTSWELVLP*VVDSTRKGERRPR*G**LG*SRNKVALPEGGAGSPPF\n"
     ]
    },
    {
     "name": "stderr",
     "output_type": "stream",
     "text": [
      "/Users/ajordan/opt/anaconda3/lib/python3.8/site-packages/Bio/Seq.py:2804: BiopythonWarning: Partial codon, len(sequence) not a multiple of three. Explicitly trim the sequence or add trailing N before translation. This may become an error in future.\n",
      "  warnings.warn(\n"
     ]
    }
   ],
   "source": [
    "# Can be translated into protein but we see that protein sequence isn't in perfect\n",
    "# multiples of 3\n",
    "# What's trailing?\n",
    "print(seq_dict[\"O169_04115-1\"].translate())  "
   ]
  },
  {
   "cell_type": "code",
   "execution_count": 110,
   "id": "7d6e69cf",
   "metadata": {},
   "outputs": [],
   "source": [
    "# Creating the following function to split the Chlamydia DNA sequence into codons\n",
    "#\n",
    "def split_into_codons(sequence):\n",
    "    lstring=str(sequence)\n",
    "    begin_at_start_codon = 'AUG'+lstring.split(\"AUG\", 1)[1]\n",
    "    lenstr=int(len(begin_at_start_codon)/3)\n",
    "    x=0\n",
    "    y=3\n",
    "    codon_list = []\n",
    "    for codons in range (0,lenstr):\n",
    "        newlist=list(begin_at_start_codon)\n",
    "        evenewer=newlist[x:y]\n",
    "        stringit=''.join(evenewer)\n",
    "        x+=3\n",
    "        y+=3\n",
    "        codon_list.append(stringit)\n",
    "    return codon_list\n",
    "    #print(codon_list)"
   ]
  },
  {
   "cell_type": "code",
   "execution_count": 111,
   "id": "c2980a78",
   "metadata": {},
   "outputs": [],
   "source": [
    "#print(lstring.split(\"AUG\", 1)[1])\n",
    "#print('AUG'+lstring.split(\"AUG\", 1)[1])"
   ]
  },
  {
   "cell_type": "code",
   "execution_count": 113,
   "id": "c7374ae4",
   "metadata": {},
   "outputs": [],
   "source": [
    "# Running this function-using Biopython-created dictionary\n",
    "# Will use this to make sure that sequences begin at a start codon and any trailing nucleotides are cut off\n",
    "list_of_codons = split_into_codons(seq_dict[\"O169_04115-1\"])\n"
   ]
  },
  {
   "cell_type": "code",
   "execution_count": 118,
   "id": "cf75caf2",
   "metadata": {},
   "outputs": [
    {
     "data": {
      "text/plain": [
       "Seq('MRHASRTEQLFRQLFSGGRVSNA*IICP*LGNNGWKRPLIPNVAIFGHPSNVKE...SF*')"
      ]
     },
     "execution_count": 118,
     "metadata": {},
     "output_type": "execute_result"
    }
   ],
   "source": [
    "# Now we can translate\n",
    "rna_str = Seq(str(''.join(list_of_codons)))\n",
    "rna_str.translate()"
   ]
  },
  {
   "cell_type": "code",
   "execution_count": 119,
   "id": "35b070e0",
   "metadata": {},
   "outputs": [],
   "source": [
    "# Alternatively, could use a loop to run all sequences rather than running them through the function\n",
    "# one at a time, but that won't be part of this exploration"
   ]
  },
  {
   "cell_type": "code",
   "execution_count": null,
   "id": "7812cc81",
   "metadata": {},
   "outputs": [],
   "source": [
    "# Next is sequence alignment\n",
    "# Will only be pairwise for simplicity"
   ]
  }
 ],
 "metadata": {
  "kernelspec": {
   "display_name": "Python 3 (ipykernel)",
   "language": "python",
   "name": "python3"
  },
  "language_info": {
   "codemirror_mode": {
    "name": "ipython",
    "version": 3
   },
   "file_extension": ".py",
   "mimetype": "text/x-python",
   "name": "python",
   "nbconvert_exporter": "python",
   "pygments_lexer": "ipython3",
   "version": "3.8.5"
  }
 },
 "nbformat": 4,
 "nbformat_minor": 5
}
