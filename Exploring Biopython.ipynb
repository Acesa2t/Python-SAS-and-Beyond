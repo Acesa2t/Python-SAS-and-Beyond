{
 "cells": [
  {
   "cell_type": "code",
   "execution_count": 10,
   "id": "879100f9",
   "metadata": {},
   "outputs": [
    {
     "name": "stdout",
     "output_type": "stream",
     "text": [
      "COX1_human\n",
      "MFADRWLFSTNHKDIGtLyLLFGAWAGVLGtALsLLIRAELGQPGNLLGNDHIYNVIVTAHAFVMIFFMVMPIMIGGFGNWLVPLMIGAPDMAFPRMNNMSFWLLPPSLLLLLASAMVEAGAGTGWTVYPPLAGNYSHPGASVDLTIFSLHLAGVSSILGAINFITTIINMKPPAMTQYQTPLFVWSVLITAVLLLLSLPVLAAGITMLLTDRNLNTTFFDPAGGGDPILYQHLFWFFGHPEVYILILPGFGMISHIVTYYSGKKEPFGYMGMVWAMMSIGFLGFIVWAHHMFTVGMDVDTRAYFTSATMIIAIPtGVKVFSWLATLHGsNMKWSAAVLWALGFIFLFTVGGLTGIVLANSSLDIVLHDTYYVVAHFHYVLSMGAVFAIMGGFIHWFPLFSGYTLDQTYAKIHFTIMFIGVNLTFFPQHFLGLSGMPRRYSDYPDAYTTWNILSSVGSFISLTAVMLMIFMIWEAFASKRKVLMVEEPSMNLEWLYGCPPPYHTFEEPVYMKS-\n",
      "COX1_mouse\n",
      "MFINRWLFSTNHKDIGTLYLLFGAWAGMVGTALSILIRAELGQPGALLGDDQIYNVIVTAHAFVMIFFMVMPMMIGGFGNWLVPLMIGAPDMAFPRMNNMSFWLLPPSFLLLLASSMVEAGAGTGWTVYPPLAGNLAHAGASVDLTIFSLHLAGVSSILGAINFITTIINMKPPAMTQYQTPLFVWSVLITAVLLLLSLPVLAAGITMLLTDRNLNTTFFDPAGGGDPILYQHLFWFFGHPEVYILILPGFGIISHVVTYYSGKKEPFGYMGMVWAMMSIGFLGFIVWAHHMFTVGLDVDTRAYFTSATMIIAIPTGVKVFSWLATLHGGNIKWSPAMLWALGFIFLFTVGGLTGIVLSNSSLDIVLHDTYYVVAHFHYVLSMGAVFAIMAGFVHWFPLFSGFTLDDTWAKAHFAIMFVGVNMTFFPQHFLGLSGMPRRYSDYPDAYTTWNTVSSMGSFISLTAVLIMIFMIWEAFASKREVMSVSYASTNLEWLHGCPPPYHTFEEPTYVKVK\n",
      "COX1_rabbit\n",
      "MFVNRWLFSTNHKDIGTLYLLFGAWAGMVGTALSLLIRAELGQPGTLLGDDQIYNVIVTAHAFVMIFFMVMPIMIGGFGNWLVPLMIGAPDMAFPRMNNMSFWLLPPSFLLLLASSMVEAGAGTGWTVYPPLAGNLAHAGASVDLTIFSLHLAGVssILGAINFITTIINMKAPAMSQYQTPLFVWSVLITAVLLLLSLPVLAAGITMLLTDRNLNTTFFDPAGGGDPILYQHLFWFFGHPEVYILILPGFGMISHIVTYYSGKKEPFGYMGMVWAMMSIGFLGFIVWAHHMFTVGMDVDTRAYFTSATMIIAIPTGVKVFSWLATLHGGNIKWSPAMLWALGFIFLFTVGGLTGIVLANSSLDIVLHDTYYVVAHFHYVLSMGAVFAIMGGFAHWFPLFSGYTLDPTWAKIHFTVMFVGVNLTFFPQHFLGLSGMPRRYSDYPDAYTMWNTVSSMGSFISLTAVMVMIFMIWEAFASKREVETIELTTTNLEWLHGCPPPYHTFEEPAFVKA-\n",
      "COX1_cow\n",
      "MFINRWLFSTNHKDIGTLYLLFGAWAGMVGTALSLLIRAELGQPGTLLGDDQIYNVVVTAHAFVMIFFMVMPIMIGGFGNWLVPLMIGAPDMAFPRMNNMSFWLLPPSFLLLLASSMVEAGAGTGWTVYPPLAGNLAHAGASVDLTIFSLHLAGVSSILGAINFITTIINMKPPAMSQYQTPLFVWSVMITAVLLLLSLPVLAAGITMLLTDRNLNTTFFDPAGGGDPILYQHLFWFFGHPEVYILILPGFGMISHIVTYYSGKKEPFGYMGMVWAMMSIGFLGFIVWAHHMFTVGMDVDTRAyFTSATMIIAIPTGVKVFSWLATLHGGNIKWSPAMMWALGFIFLFTVGGLTGIVLANSSLDIVLHDTYYVVAHFHYVLSMGAVFAIMGGFVHWFPLFSGYTLNDTWAKIHFAIMFVGVNMTFFPQHFLGLSGMPRRYsDYPDAYTMWNTISSMGSFISLTAVMLMVFIIWEAFASKREVLTVDLTTTNLEWLNGCPPPYHTFEEPTYVNLK\n"
     ]
    }
   ],
   "source": [
    "# First time exploring Biopython. Will explore some of its features using both COX1 amino acid sequences \n",
    "# and Chlamydia trachomatis DNA sequences\n",
    "# Starting by just printing the IDs and sequences separately and saving them into lists\n",
    "from Bio import SeqIO\n",
    "\n",
    "cox_id_list = []\n",
    "cox_seq_list = []\n",
    "\n",
    "aa_sequences = SeqIO.parse(open('cox1.fasta'),'fasta')\n",
    "for fasta in aa_sequences:\n",
    "    print(fasta.id)\n",
    "    print(fasta.seq)\n",
    "    \n",
    "    cox_id_list.append(fasta.id)\n",
    "    cox_seq_list.append(fasta.seq)"
   ]
  },
  {
   "cell_type": "code",
   "execution_count": 11,
   "id": "55fdda11",
   "metadata": {},
   "outputs": [
    {
     "name": "stdout",
     "output_type": "stream",
     "text": [
      "['COX1_human', 'COX1_mouse', 'COX1_rabbit', 'COX1_cow']\n",
      "[Seq('MFADRWLFSTNHKDIGtLyLLFGAWAGVLGtALsLLIRAELGQPGNLLGNDHIY...KS-'), Seq('MFINRWLFSTNHKDIGTLYLLFGAWAGMVGTALSILIRAELGQPGALLGDDQIY...KVK'), Seq('MFVNRWLFSTNHKDIGTLYLLFGAWAGMVGTALSLLIRAELGQPGTLLGDDQIY...KA-'), Seq('MFINRWLFSTNHKDIGTLYLLFGAWAGMVGTALSLLIRAELGQPGTLLGDDQIY...NLK')]\n"
     ]
    }
   ],
   "source": [
    "print(cox_id_list)\n",
    "print(cox_seq_list)"
   ]
  },
  {
   "cell_type": "code",
   "execution_count": 12,
   "id": "cc6344a3",
   "metadata": {},
   "outputs": [
    {
     "name": "stdout",
     "output_type": "stream",
     "text": [
      "ID: COX1_human\n",
      "Name: COX1_human\n",
      "Description: COX1_human\n",
      "Number of features: 0\n",
      "Seq('MFADRWLFSTNHKDIGtLyLLFGAWAGVLGtALsLLIRAELGQPGNLLGNDHIY...KS-')\n"
     ]
    }
   ],
   "source": [
    "# They can also be saved into a dictionary\n",
    "record_dict = SeqIO.to_dict(SeqIO.parse(\"cox1.fasta\", \"fasta\"))\n",
    "print(record_dict[\"COX1_human\"])"
   ]
  },
  {
   "cell_type": "code",
   "execution_count": 13,
   "id": "6aa79ada",
   "metadata": {},
   "outputs": [
    {
     "name": "stdout",
     "output_type": "stream",
     "text": [
      "Alignment with 4 rows and 514 columns\n",
      "MFADRWLFSTNHKDIGtLyLLFGAWAGVLGtALsLLIRAELGQP...KS- COX1_human\n",
      "MFINRWLFSTNHKDIGTLYLLFGAWAGMVGTALSILIRAELGQP...KVK COX1_mouse\n",
      "MFVNRWLFSTNHKDIGTLYLLFGAWAGMVGTALSLLIRAELGQP...KA- COX1_rabbit\n",
      "MFINRWLFSTNHKDIGTLYLLFGAWAGMVGTALSLLIRAELGQP...NLK COX1_cow\n"
     ]
    }
   ],
   "source": [
    "# Using alignment features to align and compare protein sequences\n",
    "from Bio import AlignIO\n",
    "\n",
    "align = AlignIO.read(\"cox1.fasta\", \"fasta\")\n",
    "\n",
    "print(align)"
   ]
  },
  {
   "cell_type": "code",
   "execution_count": 14,
   "id": "ea2820fd",
   "metadata": {},
   "outputs": [
    {
     "name": "stdout",
     "output_type": "stream",
     "text": [
      "COX1_huma         0 MFAD--RWLFSTNHKDIGt-Ly-LLFGAWAG-VLGt-ALs--LLIRAELGQPGN-LLGND\n",
      "                  0 ||----||||||||||||--|--||||||||-|-|--||---|-|||||||||--|||-|\n",
      "COX1_mous         0 MF--INRWLFSTNHKDIG-TL-YLLFGAWAGMV-G-TAL-SIL-IRAELGQPG-ALLG-D\n",
      "\n",
      "COX1_huma        51 H--IYNVIVTAHAFVMIFFMVMPIM-IGGFGNWLVPLMIGAPDMAFPRMNNMSFWLLPPS\n",
      "                 60 ---||||||||||||||||||||-|-||||||||||||||||||||||||||||||||||\n",
      "COX1_mous        50 -DQIYNVIVTAHAFVMIFFMVMP-MMIGGFGNWLVPLMIGAPDMAFPRMNNMSFWLLPPS\n",
      "\n",
      "COX1_huma       108 -LLLLLASA-MVEAGAGTGWTVYPPLAGNYS--HP-GASVDLTIFSLHLAGVSSILGAIN\n",
      "                120 -||||-||--|||||||||||||||||||----|--||||||||||||||||||||||||\n",
      "COX1_mous       108 FLLLL-AS-SMVEAGAGTGWTVYPPLAGN--LAH-AGASVDLTIFSLHLAGVSSILGAIN\n",
      "\n",
      "COX1_huma       163 FITTIINMKPPAMTQYQTPLFVWSVLITAVLLLLSLPVLAAGITMLLTDRNLNTTFFDPA\n",
      "                180 ||||||||||||||||||||||||||||||||||||||||||||||||||||||||||||\n",
      "COX1_mous       163 FITTIINMKPPAMTQYQTPLFVWSVLITAVLLLLSLPVLAAGITMLLTDRNLNTTFFDPA\n",
      "\n",
      "COX1_huma       223 GGGDPILYQHLFWFFGHPEVYILILPGFGMI-SHIV-TYYSGKKEPFGYMGMVWAMMSIG\n",
      "                240 |||||||||||||||||||||||||||||-|-||-|-|||||||||||||||||||||||\n",
      "COX1_mous       223 GGGDPILYQHLFWFFGHPEVYILILPGFG-IISH-VVTYYSGKKEPFGYMGMVWAMMSIG\n",
      "\n",
      "COX1_huma       281 FLGFIVWAHHMFTVGM-DVDTRAYFTSATMIIAIPt-GVKVFSWLATLHGs-NM-KWS-A\n",
      "                300 |||||||||||||||--||||||||||||||||||--|||||||||||||--|--|||-|\n",
      "COX1_mous       281 FLGFIVWAHHMFTVG-LDVDTRAYFTSATMIIAIP-TGVKVFSWLATLHG-GN-IKWSPA\n",
      "\n",
      "COX1_huma       336 AV-LWALGFIFLFTVGGLTGIVLA-NSSLDIVLHDTYYVVAHFHYVLSMGAVFAIM-GGF\n",
      "                360 ---||||||||||||||||||||--|||||||||||||||||||||||||||||||-|-|\n",
      "COX1_mous       337 --MLWALGFIFLFTVGGLTGIVL-SNSSLDIVLHDTYYVVAHFHYVLSMGAVFAIMAG-F\n",
      "\n",
      "COX1_huma       393 I-HWFPLFSGY-TLDQ-TY-AKI-HFT-IMFI-GVNL-TFFPQHFLGLSGMPRRYSDYPD\n",
      "                420 --||||||||--|||--|--||--||--|||--|||--||||||||||||||||||||||\n",
      "COX1_mous       393 -VHWFPLFSG-FTLD-DT-WAK-AHF-AIMF-VGVN-MTFFPQHFLGLSGMPRRYSDYPD\n",
      "\n",
      "COX1_huma       445 AYTTWNIL--SSV-GSFISLTAVML-MIFMIWEAFASKRK-VLM-VEEPSM----NLEWL\n",
      "                480 ||||||----||--|||||||||-|-|||||||||||||--|-|-|---|-----|||||\n",
      "COX1_mous       445 AYTTWN--TVSS-MGSFISLTAV-LIMIFMIWEAFASKR-EV-MSV---S-YASTNLEWL\n",
      "\n",
      "COX1_huma       495 Y-GCPPPYHTFEEPV-YM-KS--- 514\n",
      "                540 --||||||||||||--|--|-|-- 564\n",
      "COX1_mous       495 -HGCPPPYHTFEEP-TY-VK--VK 514\n",
      "\n"
     ]
    }
   ],
   "source": [
    "from Bio.Align import PairwiseAligner\n",
    "\n",
    "aligner = PairwiseAligner()\n",
    "\n",
    "alignments = aligner.align(record_dict[\"COX1_human\"], record_dict[\"COX1_mouse\"])\n",
    "\n",
    "alignment = alignments[0]\n",
    "\n",
    "print(alignment)"
   ]
  },
  {
   "cell_type": "code",
   "execution_count": 15,
   "id": "fe2ea034",
   "metadata": {},
   "outputs": [
    {
     "name": "stdout",
     "output_type": "stream",
     "text": [
      "O169_04115-1\n",
      "TTTTCTGAGAATTTGATCTTGGTTCAGATTGAACGCTGGCGGCGTGGATGAGGCATGCAAGTCGAACGGAGCAATTGTTTCGGCAATTGTTTAGTGGCGGAAGGGTTAGTAATGCATAGATAATTTGTCCTTAACTTGGGAATAACGGTTGGAAACGGCCGCTAATACCGAATGTGGCGATATTTGGGCATCCGAGTAACGTTAAAGAAGGGGATCTTAGGACCTTTCGGTTAAGGGAGAGTCTATGTGATATCAGCTAGTTGGTGGGGTAAAGGCCTACCAAGGCTATGACGTCTAGGCGGATTGAGAGATTGGCCGCCAACACTGGGACTGAGACACTGCCCAGACTCCTACGGGAGGCTGCAGTCGAGAATCTTTCGCAATGGACGGAAGTCTGACGAAGCGACGCCGCGTGTGTGATGAAGGCTCTAGGGTTGTAAAGCACTTTCGCTTGGGAATAAGAGAAGACGGTTAATACCCGCTGGATTTGAGCGTACCAGGTAAAGAAGCACCGGCTAACTCCGTGCCAGCAGCTGCGGTAATACGGAGGGTGCTAGCGTTAATCGGATTTATTGGGCGTAAAGGGCGTGTAGGCGGAAAGGTAAGTTAGTTGTCAAAGATCGGGGCTCAACCCCGAGTCGGCATCTAATACTATTTTTCTAGAGGATAGATGGAGAAAAGGGAATTTCACGTGTAGCGGTGAAATGCGTAGATATGTGGAAGAACACCAGTGGCGAAGGCGCTTTTCTAATTTATACCTGACGCTAAGGCGCGAAAGCAAGGGGAGCAAACAGGATTAGATACCCTGGTAGTCCTTGCCGTAAACGATGCATACTTGATGTGGATGGTCTCAACCCCATCCGTGTCGGAGCTAACGCGTTAAGTATGCCGCCTGAGGAGTACACTCGCAAGGGTGAAACTCAAAAGAATTGACGGGGGCCCGCACAAGCAGTGGAGCATGTGGTTTAATTCGATGCAACGCGAAGGACCTTACCTGGGTTTGACATGTATATGACCGCGGCAGAAATGTCGTTTTCCGCAAGGACATATACACAGGTGCTGCATGGCTGTCGTCAGCTCGTGCCGTGAGGTGTTGGGTTAAGTCCCGCAACGAGCGCAACCCTTATCGTTAGTTGCCAGCACTTAGGGTGGGAACTCTAACGAGACTGCCTGGGTTAACCAGGAGGAAGGCGAGGATGACGTCAAGTCAGCATGGCCCTTATGCCCAGGGCGACACACGTGCTACAATGGCCAGTACAGAAGGTAGCAAGATCGTGAGATGGAGCAAATCCTCAAAGCTGGCCCCAGTTCGGATTGTAGTCTGCAACTCGACTACATGAAGTCGGAATTGCTAGTAATGGCGTGTCAGCCATAACGCCGTGAATACGTTCCCGGGCCTTGTACACACCGCCCGTCACATCATGGGAGTTGGTTTTACCTTAAGTCGTTGACTCAACCCGCAAGGGAGAGAGGCGCCCAAGGTGAGGCTGATGACTAGGATGAAGTCGTAACAAGGTAGCCCTACCGGAAGGTGGGGCTGGATCACCTCCTTTTAA\n"
     ]
    }
   ],
   "source": [
    "# Using a list to look at individuals IDs and sequences of a Chlymadia DNA sequence\n",
    "# Will split it into codons\n",
    "records = list(SeqIO.parse(\"Chlamydia_trachomatis_sequences.fa\", \"fasta\"))\n",
    "print(records[0].id)\n",
    "print(records[0].seq)"
   ]
  },
  {
   "cell_type": "code",
   "execution_count": 16,
   "id": "6de227f6",
   "metadata": {},
   "outputs": [],
   "source": [
    "# Transcribe it into RNA\n",
    "from Bio.Seq import Seq \n",
    "from Bio.Seq import transcribe \n",
    "\n",
    "# Transcribing to RNA and saving into dictionary to make access easier\n",
    "\n",
    "ct_id_list = []\n",
    "ct_seq_list = []\n",
    "\n",
    "dna_sequences = SeqIO.parse(open('Chlamydia_trachomatis_sequences.fa'),'fasta')\n",
    "for fasta_ct in dna_sequences:\n",
    "    ct_id_list.append(fasta_ct.id)\n",
    "    ct_seq_list.append(transcribe(fasta_ct.seq))\n",
    "\n",
    "seq_dict = dict(zip(ct_id_list, ct_seq_list))\n"
   ]
  },
  {
   "cell_type": "code",
   "execution_count": 17,
   "id": "7ae5ae4b",
   "metadata": {},
   "outputs": [
    {
     "name": "stdout",
     "output_type": "stream",
     "text": [
      "UUUUCUGAGAAUUUGAUCUUGGUUCAGAUUGAACGCUGGCGGCGUGGAUGAGGCAUGCAAGUCGAACGGAGCAAUUGUUUCGGCAAUUGUUUAGUGGCGGAAGGGUUAGUAAUGCAUAGAUAAUUUGUCCUUAACUUGGGAAUAACGGUUGGAAACGGCCGCUAAUACCGAAUGUGGCGAUAUUUGGGCAUCCGAGUAACGUUAAAGAAGGGGAUCUUAGGACCUUUCGGUUAAGGGAGAGUCUAUGUGAUAUCAGCUAGUUGGUGGGGUAAAGGCCUACCAAGGCUAUGACGUCUAGGCGGAUUGAGAGAUUGGCCGCCAACACUGGGACUGAGACACUGCCCAGACUCCUACGGGAGGCUGCAGUCGAGAAUCUUUCGCAAUGGACGGAAGUCUGACGAAGCGACGCCGCGUGUGUGAUGAAGGCUCUAGGGUUGUAAAGCACUUUCGCUUGGGAAUAAGAGAAGACGGUUAAUACCCGCUGGAUUUGAGCGUACCAGGUAAAGAAGCACCGGCUAACUCCGUGCCAGCAGCUGCGGUAAUACGGAGGGUGCUAGCGUUAAUCGGAUUUAUUGGGCGUAAAGGGCGUGUAGGCGGAAAGGUAAGUUAGUUGUCAAAGAUCGGGGCUCAACCCCGAGUCGGCAUCUAAUACUAUUUUUCUAGAGGAUAGAUGGAGAAAAGGGAAUUUCACGUGUAGCGGUGAAAUGCGUAGAUAUGUGGAAGAACACCAGUGGCGAAGGCGCUUUUCUAAUUUAUACCUGACGCUAAGGCGCGAAAGCAAGGGGAGCAAACAGGAUUAGAUACCCUGGUAGUCCUUGCCGUAAACGAUGCAUACUUGAUGUGGAUGGUCUCAACCCCAUCCGUGUCGGAGCUAACGCGUUAAGUAUGCCGCCUGAGGAGUACACUCGCAAGGGUGAAACUCAAAAGAAUUGACGGGGGCCCGCACAAGCAGUGGAGCAUGUGGUUUAAUUCGAUGCAACGCGAAGGACCUUACCUGGGUUUGACAUGUAUAUGACCGCGGCAGAAAUGUCGUUUUCCGCAAGGACAUAUACACAGGUGCUGCAUGGCUGUCGUCAGCUCGUGCCGUGAGGUGUUGGGUUAAGUCCCGCAACGAGCGCAACCCUUAUCGUUAGUUGCCAGCACUUAGGGUGGGAACUCUAACGAGACUGCCUGGGUUAACCAGGAGGAAGGCGAGGAUGACGUCAAGUCAGCAUGGCCCUUAUGCCCAGGGCGACACACGUGCUACAAUGGCCAGUACAGAAGGUAGCAAGAUCGUGAGAUGGAGCAAAUCCUCAAAGCUGGCCCCAGUUCGGAUUGUAGUCUGCAACUCGACUACAUGAAGUCGGAAUUGCUAGUAAUGGCGUGUCAGCCAUAACGCCGUGAAUACGUUCCCGGGCCUUGUACACACCGCCCGUCACAUCAUGGGAGUUGGUUUUACCUUAAGUCGUUGACUCAACCCGCAAGGGAGAGAGGCGCCCAAGGUGAGGCUGAUGACUAGGAUGAAGUCGUAACAAGGUAGCCCUACCGGAAGGUGGGGCUGGAUCACCUCCUUUUAA\n"
     ]
    }
   ],
   "source": [
    "print(seq_dict[\"O169_04115-1\"])  "
   ]
  },
  {
   "cell_type": "code",
   "execution_count": 18,
   "id": "ed3ee41a",
   "metadata": {},
   "outputs": [
    {
     "name": "stdout",
     "output_type": "stream",
     "text": [
      "FSENLILVQIERWRRG*GMQVERSNCFGNCLVAEGLVMHR*FVLNLGITVGNGR*YRMWRYLGIRVTLKKGILGPFG*GRVYVISASWWGKGLPRL*RLGGLRDWPPTLGLRHCPDSYGRLQSRIFRNGRKSDEATPRV**RL*GCKALSLGNKRRRLIPAGFERTR*RSTG*LRASSCGNTEGASVNRIYWA*RACRRKGKLVVKDRGSTPSRHLILFF*RIDGEKGISRVAVKCVDMWKNTSGEGAFLIYT*R*GAKARGANRIRYPGSPCRKRCILDVDGLNPIRVGANALSMPPEEYTRKGETQKN*RGPAQAVEHVV*FDATRRTLPGFDMYMTAAEMSFSARTYTQVLHGCRQLVP*GVGLSPATSATLIVSCQHLGWEL*RDCLG*PGGRRG*RQVSMALMPRATHVLQWPVQKVARS*DGANPQSWPQFGL*SATRLHEVGIASNGVSAITP*IRSRALYTPPVTSWELVLP*VVDSTRKGERRPR*G**LG*SRNKVALPEGGAGSPPF\n"
     ]
    },
    {
     "name": "stderr",
     "output_type": "stream",
     "text": [
      "/Users/ajordan/opt/anaconda3/lib/python3.8/site-packages/Bio/Seq.py:2804: BiopythonWarning: Partial codon, len(sequence) not a multiple of three. Explicitly trim the sequence or add trailing N before translation. This may become an error in future.\n",
      "  warnings.warn(\n"
     ]
    }
   ],
   "source": [
    "# Can be translated into protein but we see that protein sequence isn't in perfect\n",
    "# multiples of 3\n",
    "# What's trailing?\n",
    "print(seq_dict[\"O169_04115-1\"].translate())  "
   ]
  },
  {
   "cell_type": "code",
   "execution_count": 19,
   "id": "7d6e69cf",
   "metadata": {},
   "outputs": [],
   "source": [
    "# Creating the following function to split the Chlamydia DNA sequence into codons\n",
    "#\n",
    "def split_into_codons(sequence):\n",
    "    lstring=str(sequence)\n",
    "    begin_at_start_codon = 'AUG'+lstring.split(\"AUG\", 1)[1]\n",
    "    lenstr=int(len(begin_at_start_codon)/3)\n",
    "    x=0\n",
    "    y=3\n",
    "    codon_list = []\n",
    "    for codons in range (0,lenstr):\n",
    "        newlist=list(begin_at_start_codon)\n",
    "        evenewer=newlist[x:y]\n",
    "        stringit=''.join(evenewer)\n",
    "        x+=3\n",
    "        y+=3\n",
    "        codon_list.append(stringit)\n",
    "    return codon_list\n",
    "    #print(codon_list)"
   ]
  },
  {
   "cell_type": "code",
   "execution_count": 20,
   "id": "c2980a78",
   "metadata": {},
   "outputs": [],
   "source": [
    "#print(lstring.split(\"AUG\", 1)[1])\n",
    "#print('AUG'+lstring.split(\"AUG\", 1)[1])"
   ]
  },
  {
   "cell_type": "code",
   "execution_count": 21,
   "id": "c7374ae4",
   "metadata": {},
   "outputs": [],
   "source": [
    "# Running this function-using Biopython-created dictionary\n",
    "# Will use this to make sure that sequences begin at a start codon and any trailing nucleotides are cut off\n",
    "list_of_codons = split_into_codons(seq_dict[\"O169_04115-1\"])\n"
   ]
  },
  {
   "cell_type": "code",
   "execution_count": 22,
   "id": "cf75caf2",
   "metadata": {},
   "outputs": [
    {
     "data": {
      "text/plain": [
       "Seq('MRHASRTEQLFRQLFSGGRVSNA*IICP*LGNNGWKRPLIPNVAIFGHPSNVKE...SF*')"
      ]
     },
     "execution_count": 22,
     "metadata": {},
     "output_type": "execute_result"
    }
   ],
   "source": [
    "# Now we can translate\n",
    "rna_str = Seq(str(''.join(list_of_codons)))\n",
    "rna_str.translate()\n",
    "\n",
    "# Alternatively, could use a loop to run all sequences rather than running them through the function\n",
    "# one at a time, but that won't be part of this exploration"
   ]
  },
  {
   "cell_type": "code",
   "execution_count": 23,
   "id": "35b070e0",
   "metadata": {},
   "outputs": [],
   "source": []
  }
 ],
 "metadata": {
  "kernelspec": {
   "display_name": "Python 3 (ipykernel)",
   "language": "python",
   "name": "python3"
  },
  "language_info": {
   "codemirror_mode": {
    "name": "ipython",
    "version": 3
   },
   "file_extension": ".py",
   "mimetype": "text/x-python",
   "name": "python",
   "nbconvert_exporter": "python",
   "pygments_lexer": "ipython3",
   "version": "3.8.5"
  }
 },
 "nbformat": 4,
 "nbformat_minor": 5
}
